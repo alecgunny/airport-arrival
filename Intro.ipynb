{
 "cells": [
  {
   "cell_type": "markdown",
   "metadata": {},
   "source": [
    "# How to Miss All the Flights You Want\n",
    "\n",
    "My father and I were born a week short of 41 years apart from one another. As you might expect, there are many things on which we (respectfully) don't always see eye-to-eye. But few topics are as contentious between us as the appropriate amount of lead time before a flight with which one should arrive at the airport.\n",
    "\n",
    "To be fair, his grievances with my airport habits are not without some empirical basis. My record, particularly in my early twenties, has been less than stellar when it comes to missing flights. But even with these, let's call them missteps, I find it hard to justify the two hour window for which he frequently advocates.\n",
    "\n",
    "In fact, I find it interesting just how lacking in consensus the public is on the issue (as Twitter responses to an Atlantic article from a couple years ago brought into focus). Here is a phenomenon that many of us experience hundreds, sometimes even _thousands_ of times in our life, and yet we arrive at widely different conclusions about how to approach it.\n",
    "\n",
    "This little walkthrough will attempt to address this apparent inconsistency first by framing an argument, mathematically, about _why_ one would arrive at the airport at one time compared to another, and then by calculating (or, rather, estimating) the arrival time which _optimizes_ that criterion. In doing so, we can point out which steps in the argument lead to disagreement, and we can evaluate how we can argue about those points."
   ]
  }
 ],
 "metadata": {
  "kernelspec": {
   "display_name": "Python 3",
   "language": "python",
   "name": "python3"
  },
  "language_info": {
   "codemirror_mode": {
    "name": "ipython",
    "version": 3
   },
   "file_extension": ".py",
   "mimetype": "text/x-python",
   "name": "python",
   "nbconvert_exporter": "python",
   "pygments_lexer": "ipython3",
   "version": "3.9.1"
  }
 },
 "nbformat": 4,
 "nbformat_minor": 4
}
